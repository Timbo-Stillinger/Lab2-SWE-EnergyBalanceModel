{
 "cells": [
  {
   "cell_type": "markdown",
   "metadata": {},
   "source": [
    "# Point Energy Balance Model\n",
    "\n",
    "This is an interactive lab for learning about energy balance modeling. This physically based approach can be used to model snowmelt volumes, or reconstruct a snowpack (i.e. build the snowpack in reverse). There are a few levels of complexity to the equations. First we will start with the main components and then dig deeper into sucessevie layers of complexity. \n",
    "\n",
    "For those interested in more details and references for the material covered in this lab, refer to Section 4.1 and Appendix A of the folloing paper:\n",
    "https://doi.org/10.1002/2016WR018704"
   ]
  },
  {
   "cell_type": "markdown",
   "metadata": {},
   "source": [
    "How does snow melt? Snow is frozen water. The first conceptual point for understanding the melt of a snowpack, is the energy required to turn ice into water. The phase change from snow to water requires much more energy than to change the temperature of snow (or water). Positive energy balance will first warm the snow, and then melt a volume of snow, which depends on the amount of energy. Below is an example of how much snow we can melt in one hour with a given flux of energy.\n",
    "## How much snow can we melt in one hour with a flux of 280 Wm<sup>-2</sup>?"
   ]
  },
  {
   "cell_type": "code",
   "execution_count": 2,
   "metadata": {},
   "outputs": [],
   "source": [
    "#energy avalible to melt assuming mid day net flux of radiation into a snowpack during the melt season.\n",
    "M=280 #Wm-2 (Watts per meter squared)  (hint: 1 Watt = 1 Joule/sec)\n",
    "\n",
    "#how much snow melts for a constant W m-2 of energy over the course of an hour?\n",
    "### CONSTANTS ###\n",
    "waterDensity=1000 #density of water (kg*m-3)\n",
    "eFusionWater= 3.34e5 #enthalpy of fusion for water (J*kg-1)\n",
    "secPerHour=3600#number of seconds in one hour (s*h-1)\n",
    "mmPerMeter=1000#number of mm in a meter (mm*m-1)\n",
    "mf=(secPerHour*mmPerMeter)/(waterDensity*eFusionWater)\n",
    "#melt factor - rate that snow melts per Watt of energy per square meter per hour\n",
    "# can use dimensional analysis to figure out units of answer\n",
    "\n",
    "#calculate the number of mm of water that are melted (turned from ice to liquid water) in one hour\n",
    "#when there is a constant flux of 280 Wm-2 durring that hour.\n",
    "# mm water / (W m^-2 hr), assuming an isothermal (0 deg C) snowpack\n",
    "\n",
    "\n",
    "#print the answer to the screen along with the text 'mm of water melted in one hour per Watt of energy'\n"
   ]
  },
  {
   "cell_type": "markdown",
   "metadata": {},
   "source": [
    "The output above shows how much water would change phase from solid to liquid for a fixed rate of energy into the snowpack over an hour. Let's now use some real data to figure out how much water is in a snowpack.   "
   ]
  },
  {
   "cell_type": "markdown",
   "metadata": {},
   "source": [
    "  \n",
    "First, let's assume a deep snowpack, and we want to figure out how much water melts in the snow pack in one day. Below are the equations for the energy balance of a moutain snowpack. \n",
    "\n",
    "$$M = \\text{flux of energy melting snow pack} $$  \n",
    "  \n",
    "  \n",
    "## Surface Energy Balance Components    \n",
    "The melt is driven by the flux of energy avalible to melt the snowpack. In our simple example above, this was 280 Wm-2. With field data, we have to calculate this net flux based on each component of the energy balance at the surface of the snowpack.   \n",
    "  \n",
    "  First we have to understand the net radiation being absorbed or emitted from the surface.  \n",
    "  Radiation comes from the following sources:  \n",
    "$$S=\\text{Shortwave radiation from sun}$$  \n",
    "$$\\alpha=\\text{snowpack albedo, how much solar radiation gets reflected}$$  \n",
    "$$L_{down}=\\text{longwave radiation from atmosphere}$$    \n",
    "$$L_{up}=\\text{emission from surface (based on temperature of the surface and emissivity)}$$    \n",
    "$$R_{net}=S(1-\\alpha)+L_{down}-L_{up}$$  \n",
    "\n",
    "\n",
    "$$R_{net}=\\text{SOLAR FLUX}+\\text{LONGWAVE FLUX}$$   \n",
    "\n",
    "We use $S(1-\\alpha)$ to caclulate the amount of solar radiation absorbed by the snowpack becuase we do not diretly measure absorption $S$ and $\\alpha$ are easier to measure.  $R_{net}$ is very important for energy balance modeling. \n",
    "  \n",
    "\n",
    "  \n",
    "$$R_{net} = \\text{net radiation (shortwave and longwave), the flux of energy into or out of the snowpack}$$ \n",
    "\n",
    "\n",
    "$$H =  \\text{sensible heat flux, i.e. raising the temperature of water in a kettle}$$   \n",
    "  \n",
    "$$S = \\text{latent heat flux, i.e. boiling water in a kettle (phase change of the water from liquid to vapor)}$$  \n",
    "  \n",
    "$$G = \\text{heat flow into or out of the pack, we assume this is negligible compared to the other fluxes (G=0)}$$  \n",
    "\n",
    "\n",
    "Given these fluxes, we have the following equation for the energy that is avalible to melt the snowpack:  \n",
    "  \n",
    "$$M = R_{net} + H + L + G   \\text{ and } G = 0$$  \n",
    "  \n",
    "$$\\text{so}$$   \n",
    "  \n",
    "$$M = R_{net} + H + L$$  \n",
    " \n",
    " $$ \\text{ENERGY TO MELT SNOWPACK} = \\text{SOLAR FLUX} + \\text{LONGWAVE FLUX} + \\text{SENSIBLE HEAT FLUX} + \\text{LATENT HEAT FLUX}$$  \n",
    "\n",
    "\n",
    "for each timestep. And the snowpack only melts when there is energy (M) available to melt (otherwise it cools), so   \n",
    "  \n",
    "$$ M = max( R_{net} + H + L, 0 )$$\n",
    "\n",
    "Lets now go look at some real data for all the parts of these quesitons and see how meausrements of the snowpack and the energy balance can be used to estimate SWE\n"
   ]
  },
  {
   "cell_type": "markdown",
   "metadata": {},
   "source": [
    "We will use 2013 to 2017 Cold Regions Research and Engineering Laboratory and University of California Santa Barbara (CUES) data to explore. More information on CUES can be found here:\n",
    "https://vesr.nrs.ucsb.edu/about/facilities/snarl/cues-snow-science-laboratory\n",
    "https://snow.ucsb.edu/\n",
    "\n",
    "# Run SWE Reconstruction on point data from CUES"
   ]
  },
  {
   "cell_type": "markdown",
   "metadata": {},
   "source": [
    "### IMPORT NEEDED PACKAGES ###"
   ]
  },
  {
   "cell_type": "code",
   "execution_count": null,
   "metadata": {},
   "outputs": [],
   "source": [
    "#we will use the pandas, numpy, and matplotlib pyplot libraires in this tutorial\n",
    "#lets import all the packages and name them with shorthand so that it is eiasier to write long funciton calls\n",
    "#we also want to use nature log function and have it work when we write 'ln', the usual way it is written. \n",
    "\n"
   ]
  },
  {
   "cell_type": "markdown",
   "metadata": {},
   "source": [
    "### READ A CSV INTO PYTHON AS A DATAFRAME ###\n",
    "Let's import the datase as a dataframe (table) to see what energy balance variables are included.  "
   ]
  },
  {
   "cell_type": "code",
   "execution_count": null,
   "metadata": {},
   "outputs": [],
   "source": [
    "#read in 6 years of energy balance data from our field station. the file we want is called CUES_2013_to_2017_EBdata.csv\n",
    "\n",
    "#make sure dates and times are understood by python to be dates and time, not numbers or strings\n",
    "\n",
    "#set the date and time of a measurement to be the index for that row of data in the dataframe\n",
    "\n",
    "#take a quick look at the first few rows of the dataframe to make sure it looks correct "
   ]
  },
  {
   "cell_type": "code",
   "execution_count": null,
   "metadata": {},
   "outputs": [],
   "source": [
    "#how many rows are in the dataframe?\n"
   ]
  },
  {
   "cell_type": "code",
   "execution_count": null,
   "metadata": {},
   "outputs": [],
   "source": [
    "#what are all the columns in the dataframe and their datatypes?\n"
   ]
  },
  {
   "cell_type": "code",
   "execution_count": null,
   "metadata": {},
   "outputs": [],
   "source": [
    "#what is the datatype of our dataframe index?\n"
   ]
  },
  {
   "cell_type": "markdown",
   "metadata": {},
   "source": [
    "## Visualize the time series of field measurements"
   ]
  },
  {
   "cell_type": "code",
   "execution_count": null,
   "metadata": {},
   "outputs": [],
   "source": [
    "#plot snow depth and snow water equivalent across the whole data record\n"
   ]
  },
  {
   "cell_type": "markdown",
   "metadata": {},
   "source": [
    "We can see each winter season at the point as the snow depth and the snow water equivalent increase each year and then the snow melts out each spring. There is no SWE data for the first two seasons as the instrument that measures SWE was not installed. In this lab, we will use the snow depth measurement as a snow cover identifer (snow on / snow off) along with the energy balance data collected at this site to reconstruct the snow water equivalent from the energy balance each day. We will then compare our energy balance estimate to the independent SWE measurement at the site\n",
    "\n",
    "# Energy Balance Componenet: SOLAR FLUX"
   ]
  },
  {
   "cell_type": "markdown",
   "metadata": {},
   "source": [
    "lets look at the solar radiation, the incoming solar radiation and the reflected solar radiation off the snow. The amount of reflected solar radiation is equal to the incoming solar radation that is relfectied - i.e. incoming*albedo\n",
    "\n",
    "$$ \\text{reflected solar radiation} = S*\\alpha $$"
   ]
  },
  {
   "cell_type": "code",
   "execution_count": null,
   "metadata": {},
   "outputs": [],
   "source": [
    "#make a new dataframe column with the data for our new variable, reflected_solar.\n",
    "#use the equation above and the existing data in the dataframe\n",
    "\n"
   ]
  },
  {
   "cell_type": "markdown",
   "metadata": {},
   "source": [
    "Lets look at one week of data in may of 2017 durring the melt season"
   ]
  },
  {
   "cell_type": "code",
   "execution_count": null,
   "metadata": {},
   "outputs": [],
   "source": [
    "#plot reflected solar and incoming solar for one week on a plot to see how different/similar they are\n",
    "#try a few different weeks.\n"
   ]
  },
  {
   "cell_type": "markdown",
   "metadata": {},
   "source": [
    "Can you guess which days were cloudy? which days were sunny?"
   ]
  },
  {
   "cell_type": "markdown",
   "metadata": {},
   "source": [
    "The net solar flux is S(1-albedo)  \n",
    "thi is the incoming solar minus the reflected solar. This is the net flux of solar energy into the snowpack each day\n",
    "\n",
    "$$ \\text{net solar flux of energy into the snowpack} = S(1-\\alpha)$$"
   ]
  },
  {
   "cell_type": "code",
   "execution_count": null,
   "metadata": {},
   "outputs": [],
   "source": [
    "#Calcluate the net flux of solar energy into the snowpack at each timestep and \n",
    "#save as a new column in the dataframe\n",
    "\n",
    "#plot this new variable for a week of data to look at it\n"
   ]
  },
  {
   "cell_type": "markdown",
   "metadata": {},
   "source": [
    "# Energy Balance Componenet: LONGWAVE FLUX\n",
    "\n",
    "Lets look at the longwave energy balance. \n",
    "\n",
    "We do not have snow surface temperature measurements, but we can approximate,  we know when there is snow cover, from the depth meausrement, and we know that snow cannot be warmer than 0degC. So Tsnow = min(Tair,0) if snow_depth>0  \n",
    "\n",
    "$$ T_{snow} = min( T_{air},0)   \\text{  if  }   \\text{snow depth}>0 $$\n",
    "\n",
    "\n",
    "\n",
    "###### Another option is to use the dewpoint  temperature instead of air temp, see Raleigh et al 2013 http://dx.doi.org/10.1002/2013WR013958\n",
    "\n",
    "\n",
    "The longwave radiation of a object is given by the Stefan Boltzman equation and is a function of the object's temperature. (hotter objects emit more radiation)\n",
    "\n",
    "$$L_{up}=\\varepsilon_{snow} \\sigma T_{snow}^{4} $$\n",
    "\n",
    "Longwave emission from surface = snow emissivity * stefan-boltzman constant * snow temperature <sup>4</sup>  \n",
    "\n",
    "For the uplooking longwave radiation, we meausre it directly with an upward looking radiometer"
   ]
  },
  {
   "cell_type": "code",
   "execution_count": null,
   "metadata": {},
   "outputs": [],
   "source": [
    "#snow is almost a black body emitter\n",
    "snow_emissivity=0.99\n",
    "celcius_2_kelvin=273.15\n",
    "#stefan-boltzman constant\n",
    "sbc=5.67e-8\n",
    "\n",
    "#we want the temperature in kelvin for longwave emission calculation\n",
    "#set snow surface temperature to the minimum of current air temp or 0C\n",
    "\n",
    "#what if there is no snow? what is the correct temperature? \n",
    "\n",
    "#calculate the outgoing longwave emissivity of the snow form the data and the \n",
    "# stephan boltzman equation above. \n"
   ]
  },
  {
   "cell_type": "markdown",
   "metadata": {},
   "source": [
    "Let look at all the long wave energy balance variables over this time period.  "
   ]
  },
  {
   "cell_type": "code",
   "execution_count": null,
   "metadata": {
    "scrolled": true
   },
   "outputs": [],
   "source": [
    "#plot longwave radiation variables \n",
    "#(incoming longwave from the atmosphere and outgoing longwave from the snowpack)\n"
   ]
  },
  {
   "cell_type": "markdown",
   "metadata": {},
   "source": [
    "Now that we have both componenets of longwave radiation, we can calculate the net flux of longwave radiation from these two signals.   \n",
    "\n",
    "$$L_{down}=\\text{longwave radiation from atmosphere}$$    \n",
    "$$L_{up}=\\text{emission from surface (based on temperature of the surface and emissivity)}$$    \n",
    "$$ \\text{net_longwave}=L_{down}-L_{up}$$  "
   ]
  },
  {
   "cell_type": "code",
   "execution_count": null,
   "metadata": {},
   "outputs": [],
   "source": [
    "#Calculate net longwave and store as a new variable in the dataframe\n",
    "\n",
    "#plot the new variable over the week \n"
   ]
  },
  {
   "cell_type": "markdown",
   "metadata": {},
   "source": [
    "# Radiation Fluxes for Energy Balance: Net Shortwave (solar) & Net Longwave Radiation\n",
    "\n",
    "Now we have calculated both the net solar and net longwave energy fluxes. These are all the energy flux from radiated energy that go into the energy balance at the surface of the snowpack. Lets plot them and see how they relate before moving on to the sensible and latent heat fluxes. "
   ]
  },
  {
   "cell_type": "code",
   "execution_count": null,
   "metadata": {},
   "outputs": [],
   "source": [
    "#plot net solar and new longwave, look at a few different weeks\n"
   ]
  },
  {
   "cell_type": "markdown",
   "metadata": {},
   "source": [
    "# Energy Balance Componenet: SENSIBLE HEAT FLUX\n",
    "sensible heat flux = density of air * specific heat of air at constant pressure * (Tair - Tsurface) / aerodynamic resistance over snow adjusted for instability  \n",
    "$$H=\\rho_aC_pD\\zeta(T_a-T_s)$$\n",
    "\n",
    "#### The most importnat point to remember for sensible heat flux is that it is driven by both the temperature difference between the surface and the air and the amont of 'mixing' (wind!) at the surface. As mixing increases and as the temperature difference increases, the sensible heat flux increases."
   ]
  },
  {
   "cell_type": "code",
   "execution_count": null,
   "metadata": {},
   "outputs": [],
   "source": [
    "#constants needed to calculate heat exchanges\n",
    "Cp=1010 # #specific_heat_of_air J/(kg deg)\n",
    "k=0.41#Von Karman's constant\n",
    "eta=9.4 #stability function constant\n",
    "phi=5.3 #stability function constant\n",
    "g=9.8 # gravity m/s2\n",
    "celcius_2_kelvin=273.15 #temperatures must be in kelvin\n",
    "kPa_0=101.325; # sea level pressure kPa.\n",
    "rho_0=1.29 # sea level rho\n",
    "z0=0.0005# m roughness height (0.5mm)\n",
    "\n",
    "#variables needed to perform heat exchange calculations\n",
    "Ts=EBdata['snow_surface_temp']+celcius_2_kelvin\n",
    "Ta=EBdata['AirTemp_C']+celcius_2_kelvin\n",
    "u=EBdata['wind_speed_meters_per_sec'] #m/s\n",
    "zR=(600-EBdata['SnowDepth_cm'])/100 # meters height of windspeed measurement 6m above bare ground - correct for snow depth\n",
    "kPa_alt=EBdata['AirPressure_mb']/10 #measured pressure at snow study site, convert mb to kPa\n",
    "#air_density (rho) alt adj. density air,kg/m^3\n",
    "rho_air=rho_0*(kPa_alt/kPa_0);\n",
    "\n",
    "\n",
    "#heat_exchange_coefficent (also used for latent heat flux calculation)\n",
    "D=(u*k**2)/((ln(zR/z0))**2)\n",
    "\n",
    "#nondimensional stability function, three situations (neutral,stable,unstable) (also used for latent heat flux calculation)\n",
    "#unstable(Ts>Ta)\n",
    "#gamma=phi*eta*(k/(ln(zR/z0)))**2*np.sqrt(zR/z0)\n",
    "C1=phi*eta*(k/(ln(zR/z0)))**2*np.sqrt(zR/z0)\n",
    "\n",
    "#Ri=(g*zR*(Ta-Ts))/(Ta*u**2)\n",
    "C2=g*zR/(Ta*u**2)\n",
    "\n",
    "B1=eta*C2\n",
    "B2=C1*np.sqrt(np.absolute(C2))\n",
    "B3=1+B2*np.sqrt(np.absolute(Ts-Ta))\n",
    "\n",
    "#unstableConditions=1-(eta*Ri)/(1+gamma*np.sqrt(np.absolute(Ri)))\n",
    "unstable=1+B1*(Ts-Ta)/B3\n",
    "\n",
    "#stable(Ts<Ta)\n",
    "#stableConditions=1+(eta/2)*Ri\n",
    "B8=B1/2\n",
    "stable=1/((1+B8*(Ta-Ts))**2)\n",
    "\n",
    "#neutral stability assumption first (Ts==Ta) \n",
    "stability=np.ones_like(unstable)\n",
    "\n",
    "#fill in unstable times (Ts>Ta)\n",
    "unstableIdx=Ts>Ta\n",
    "stability[unstableIdx]=unstable[unstableIdx]\n",
    "\n",
    "#fill in stable times (Ts<Ta)\n",
    "stableIdx=Ts<Ta\n",
    "stability[stableIdx]=stable[stableIdx]\n",
    "\n",
    "#add sensible heat flux as a new column to the dataframe\n",
    "EBdata['Sensible_Heat_Flux']=rho_air*Cp*D*stability*(Ta-Ts)"
   ]
  },
  {
   "cell_type": "markdown",
   "metadata": {},
   "source": [
    "lets plot some of the variables by themselves and make sure they look right - plot various variables to see what they look like across the season\n",
    "## Plot various measurements that go into calculating the sensible heat flux"
   ]
  },
  {
   "cell_type": "code",
   "execution_count": null,
   "metadata": {
    "scrolled": true
   },
   "outputs": [],
   "source": [
    "#try plotting zR first, and explain what it is.then try some others. \n"
   ]
  },
  {
   "cell_type": "markdown",
   "metadata": {},
   "source": [
    "## Plot the sensible heat flux"
   ]
  },
  {
   "cell_type": "code",
   "execution_count": null,
   "metadata": {},
   "outputs": [],
   "source": [
    "#plot over a week\n"
   ]
  },
  {
   "cell_type": "markdown",
   "metadata": {},
   "source": [
    "# Energy Balance Componenet: LATENT HEAT FLUX\n",
    "latent heat flux = latent heat of vaporization or sublimation* density of air * (0.622/air pressure) * (vapor pressure of air - saturated vapor pressure of snow surface)  \n",
    "$$L=\\rho_a\\lambda_{v,s}D\\zeta(\\theta\\frac{e_a-e_s}{P_z})$$\n",
    "\n",
    "#### The most importnat point to remember for latent heat flux is that it is driven by both the vapor pressure difference between the surface and the air and the amont of 'mixing' (wind!) at the surface. As mixing increases and as the vapor pressure difference increases, the latent heat flux increases."
   ]
  },
  {
   "cell_type": "code",
   "execution_count": null,
   "metadata": {},
   "outputs": [],
   "source": [
    "#information from sensible heat flux calcualtion we need for latent heat flux calculation\n",
    "Ts=Ts\n",
    "Ta=Ta\n",
    "rho_air=rho_air\n",
    "Pa_alt=kPa_alt*1000\n",
    "D=D\n",
    "\n",
    "#new information needed for latent heat flux calculation\n",
    "theta=0.622 # ratio of molecular weight of water to air\n",
    "latent_heat_of_sublimation=2834700 #J/kg\n",
    "latent_heat_of_vaporization=2501000 #J/kg\n",
    "RH=EBdata['RH']\n",
    "Ta_C=EBdata['AirTemp_C']\n",
    "\n",
    "#vapor pressure of the air\n",
    "#calculated based on the saturation vapor pressure of the dewpoint temperature \n",
    "# as in: (Raleigh et al (2013) doi:10.1002/2013WR013958)\n",
    "c=273.86\n",
    "b=22.587\n",
    "#celcius dewpoint temp\n",
    "TdC=c*(ln(RH)+b*Ta_C/(c+Ta_C))/(b-ln(RH)-b*Ta_C/(c+Ta_C))\n",
    "#dewpoint temp (K)\n",
    "Td=TdC+273.15\n",
    "T0=273.16\n",
    "es0=0.611 #saturation vapor pressure in kPa at 273.16K\n",
    "Lwater=6808*(1/T0-1/Td)-5.09*ln(Td/T0)\n",
    "vp=es0*np.exp(Lwater)\n",
    "#saturation vapor pressure of ice at dewpoint temp (if air temp is below 0C)\n",
    "Lice=6293*(1/T0-1/Td)-0.555*ln(Td/T0)\n",
    "resetVp=Td<=T0\n",
    "#Lice[Lice!=resetVp]=np.nan\n",
    "vp_ice=es0*np.exp(Lice)\n",
    "vp[resetVp]=vp_ice[resetVp]\n",
    "eA=vp*1000 #eA and eS are in Pa, not kPa\n",
    "\n",
    "\n",
    "#saturation vapor pressure at the snow surface (vapor pressure over ice from Buck 1981) (e at the snow surface)\n",
    "Tf=273.15\n",
    "A=6.1115*100\n",
    "B=22.452\n",
    "C=272.55\n",
    "eS=A*np.exp((B*(Ts-Tf))/(C+(Ts-Tf)))\n",
    "#enthalpy of vaporization or sublimation \n",
    "#is liquid water in the snow evaporating or ice sublimating?\n",
    "#vapor pressure is greater at the snow surface - we assume sublimation - (use enthalpy of sublimation) \n",
    "#or greater in the air above the snow - we assume vaporization - (use enthalpy of vaporization)\n",
    "xLs=np.full_like(eS,latent_heat_of_sublimation) #set all to sublimation\n",
    "xLs[eS<eA]=latent_heat_of_vaporization #set to vaporization if nessesary\n",
    "\n",
    "EBdata['Latent_Heat_Flux']=rho_air*xLs*D*stability*(theta*((eA-eS)/Pa_alt)) # no adjustments for vegetation emitted longwave"
   ]
  },
  {
   "cell_type": "code",
   "execution_count": null,
   "metadata": {},
   "outputs": [],
   "source": [
    "#plot a few of the latent heat equation variables to make sure they look correct\n"
   ]
  },
  {
   "cell_type": "code",
   "execution_count": null,
   "metadata": {
    "scrolled": true
   },
   "outputs": [],
   "source": [
    "#plot the latent heat flux\n"
   ]
  },
  {
   "cell_type": "markdown",
   "metadata": {},
   "source": [
    "# Plot all energy balance components\n",
    "Lets look at each componenet of the energy balance for this week. We can take the individual coponents and look at the net flux of energy into or out of the snowpack at each hourly timestep"
   ]
  },
  {
   "cell_type": "code",
   "execution_count": null,
   "metadata": {},
   "outputs": [],
   "source": [
    "#calculate the net flux\n",
    "\n",
    "#plot net flux and all energy balance components that go into net flux\n"
   ]
  },
  {
   "cell_type": "markdown",
   "metadata": {},
   "source": [
    "Solve the energy balance each day for potiental melt\n",
    "$$M_p=max(R_{net}+H+L,0)$$"
   ]
  },
  {
   "cell_type": "code",
   "execution_count": null,
   "metadata": {},
   "outputs": [],
   "source": [
    "#calculate avalible energy to melt snow at each time step\n"
   ]
  },
  {
   "cell_type": "markdown",
   "metadata": {},
   "source": [
    "# Plot the energy avalible to melt the snowpack"
   ]
  },
  {
   "cell_type": "code",
   "execution_count": null,
   "metadata": {
    "scrolled": false
   },
   "outputs": [],
   "source": [
    "#plot energy avalible to melt snow at each time step for a week of data \n",
    "#look at a week in the spring and then a week in the middle of winter\n"
   ]
  },
  {
   "cell_type": "markdown",
   "metadata": {},
   "source": [
    "# SWE RECONSTRUCTION\n",
    "\n",
    "Reconstruction works backwards up to peak SWE, lets figure out the timeperiod to run our model based on the SWE measurements at CUES. We will figure out the dates to run reconstruction based on peak SWE date to melt out date. Because the reconstruciton method is independent from the SWE pillow measurements, we can compare the two results at the end"
   ]
  },
  {
   "cell_type": "code",
   "execution_count": null,
   "metadata": {
    "scrolled": false
   },
   "outputs": [],
   "source": [
    "#lets focus on the 2017 water year, create a new dataframe of all the data for the 2017 water year\n",
    "\n",
    "\n",
    "#what was the date of peak SWE and volumne of water in the snowpack that day?\n",
    "\n",
    "\n",
    "#what is the melt out date of the snowpack?\n",
    "\n",
    "#plot SWE across the water year and add a marker for peak SWE and melt out date                                    \n",
    "\n",
    "#print in senteces the maximum SWE, max SWE date, melt out date\n",
    "\n"
   ]
  },
  {
   "cell_type": "markdown",
   "metadata": {},
   "source": [
    "Now lets use our energy balance information to backcalculate the SWE each day from melt out date to peak SWE date and then compare our energy balance SWE estimate to the snow pillow data"
   ]
  },
  {
   "cell_type": "code",
   "execution_count": null,
   "metadata": {},
   "outputs": [],
   "source": [
    "#select valid time steps for summing melt over\n",
    "\n",
    "\n",
    "#how much snow melts for a constant W m-2 of energy over the course of an hour?\n",
    "melt_factor=0.0108  # mm/((W/m2)h)\n",
    "\n",
    "#cumulative sum of the melt_per_hour from melt out date back to peak SWE\n",
    "\n"
   ]
  },
  {
   "cell_type": "markdown",
   "metadata": {},
   "source": [
    "## melt per hour from reconstruciton"
   ]
  },
  {
   "cell_type": "code",
   "execution_count": null,
   "metadata": {
    "scrolled": false
   },
   "outputs": [],
   "source": [
    "#plot the melt per hour for the entire water year and put the legend in the upper right \n"
   ]
  },
  {
   "cell_type": "markdown",
   "metadata": {},
   "source": [
    "## Total reconstructed SWE"
   ]
  },
  {
   "cell_type": "code",
   "execution_count": null,
   "metadata": {
    "scrolled": false
   },
   "outputs": [],
   "source": [
    "#plot the total reconstructed SWE acrss the water year\n"
   ]
  },
  {
   "cell_type": "markdown",
   "metadata": {},
   "source": [
    "# Hourly melt and reconstruction comparison"
   ]
  },
  {
   "cell_type": "code",
   "execution_count": null,
   "metadata": {},
   "outputs": [],
   "source": [
    "#compare a plot of the melt per hour and the total SWE reconstruction over all days (the cumulative sum of melt)\n"
   ]
  },
  {
   "cell_type": "markdown",
   "metadata": {},
   "source": [
    "As you can see from above, a little melt each hour adds up to a lot of snow.\n",
    "  \n",
    "    \n",
    "Lets now look at our reconstructed snow water equivalnet compared to the measured SWE at the snow pillow.\n",
    "### and of course it matches nearly perfectly :)"
   ]
  },
  {
   "cell_type": "code",
   "execution_count": null,
   "metadata": {
    "scrolled": false
   },
   "outputs": [],
   "source": [
    "#our data set contains an indepenent measure of SWE - snow pillow data. lets compare the remote sensing\n",
    "#based energy balance estimate to the pillow measurement to see how similar they are\n"
   ]
  }
 ],
 "metadata": {
  "kernelspec": {
   "display_name": "Python 3",
   "language": "python",
   "name": "python3"
  },
  "language_info": {
   "codemirror_mode": {
    "name": "ipython",
    "version": 3
   },
   "file_extension": ".py",
   "mimetype": "text/x-python",
   "name": "python",
   "nbconvert_exporter": "python",
   "pygments_lexer": "ipython3",
   "version": "3.8.5"
  }
 },
 "nbformat": 4,
 "nbformat_minor": 4
}
