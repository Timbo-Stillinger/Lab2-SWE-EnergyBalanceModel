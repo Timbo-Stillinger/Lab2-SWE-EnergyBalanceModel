{
 "cells": [
  {
   "cell_type": "markdown",
   "metadata": {},
   "source": [
    "This is an interactive lab for learning about energy balance modeling. This physically based approach can be used to model snowmelt volumes, or reconstruct a snowpack (i.e. build the snowpack in reverse). There are a few levels of complexity to the equations. First we will start with the main components and then dig deeper into sucessevie layers of complexity. "
   ]
  },
  {
   "cell_type": "markdown",
   "metadata": {},
   "source": [
    "How does snow melt? Snow is frozen water. The first conceptual point for understanding the melt of a snowpack, is the energy required to turn ice into water. The phase change from snow to water requires much more energy than to change the temperature of snow (or water). Positive energy balance will first warm the snow, and then melt a volume of snow, which depends on the amount of energy. "
   ]
  },
  {
   "cell_type": "code",
   "execution_count": null,
   "metadata": {},
   "outputs": [],
   "source": [
    "#energy avalible to melt assuming mid day during the melt season.\n",
    "M=280 #Wm-2\n",
    "\n",
    "#how much snow melts for a constant W m-2 of energy over the course of an hour?\n",
    "mf=0.0108\n",
    "\n",
    "melt=M*mf #mm of water\n",
    "# mm water / (W m^-2 hr), assuming an isothermal (0 deg C) snowpack\n",
    "print(melt,'mm of water melted in one hour') "
   ]
  },
  {
   "cell_type": "markdown",
   "metadata": {},
   "source": [
    "The output above shows how much water would change phase from solid to liquid for a fixed rate of energy into the snowpack over an hour. "
   ]
  },
  {
   "cell_type": "markdown",
   "metadata": {},
   "source": [
    "Let's use some real data to figure out how much water is in a snowpack.   \n",
    "  \n",
    "First, let's assume a deep snowpack, and we want to figure out how much water melts in the snow pack one day.\n",
    "[insert image of the conceptual model for the inital EB calculation]\n",
    "$$M = \\text{flux of energy melting snow pack} $$  \n",
    "  \n",
    "  First we have to understand the net radiation being absorbed or emitted from the surface.  \n",
    "  Radiation comes from the following sources:  \n",
    "$$S=\\text{Shortwave radiation from sun}$$\n",
    "$$\\alpha=\\text{snowpack albedo, how much solar radiation gets reflected}$$  \n",
    "$$L_{down}=\\text{longwave radiation from atmosphere}$$    \n",
    "$$L_{up}=\\text{emission from surface (based on temperature of the surface and emissivity)}$$    \n",
    "$$R_{net}=S(1-\\alpha)+L_{down}-L_{up}$$   \n",
    "\n",
    "We use $S(1-\\alpha)$ to caclulate the amount of solar radiation absorbed by the snowpack becuase we do not diretly measure this quantity $S$ and $\\alpha$ are easier to measure.  \n",
    "  \n",
    "\n",
    "  \n",
    "$$R_{net} = \\text{net radiation (shortwave and longwave), the flux of energy into or out of the snowpack}$$ \n",
    "\n",
    "\n",
    "$$H =  \\text{sensible heat flux, i.e. raising the temperature of water in a kettle}$$   \n",
    "  \n",
    "$$S = \\text{latent heat flux, i.e. boiling water in a kettle (phase change of the water from liquid to vapor)}$$  \n",
    "  \n",
    "$$G = \\text{heat flow into or out of the pack, we assume this is negligible compared to the other fluxes}$$  \n",
    "\n",
    "\n",
    "Given these fluxes, we have the following equation for the energy that is avalible to melt the snowpack:  \n",
    "  \n",
    "$$M = R_{net} + H + L + G   \\text{ and } G = 0$$  \n",
    "  \n",
    "$$\\text{so}$$   \n",
    "  \n",
    "$$M = R_{net} + H + L$$  \n",
    "  \n",
    "for each timestep. And the snowpack only melts when there is energy (M) available to melt (otherwise it cools), so   \n",
    "  \n",
    "$$ M = max( R_{net} + H + L, 0 )$$\n",
    "\n",
    "Lets now go look at some real data for all the parts of these quesitons and see how meausrements of the snowpack and the energy balance can be used to estimate SWE\n"
   ]
  },
  {
   "cell_type": "markdown",
   "metadata": {},
   "source": [
    "We will use 2013 to 2017 Cold Regions Research and Engineering Laboratory and University of California Santa Barbara (CUES) data to explore. More information on CUES can be found here:\n",
    "https://vesr.nrs.ucsb.edu/about/facilities/snarl/cues-snow-science-laboratory\n",
    "https://snow.ucsb.edu/"
   ]
  },
  {
   "cell_type": "code",
   "execution_count": null,
   "metadata": {},
   "outputs": [],
   "source": [
    "#we will use the pandas, numpy, and matplotlib pyplot libraires in this tutorial\n",
    "import pandas as pd\n",
    "import numpy as np\n",
    "import matplotlib.pyplot as plt\n",
    "from numpy import log as ln\n",
    "\n",
    "\n",
    "#read in 6 years of energy balance data from our field station\n",
    "# tis code might clean up the data on the backend with out having to have steps for it\n",
    "# read_csv('CUES_2013_to_2017_EBdata.csv', index_col=0, parse_dates=True)\n",
    "EBdata=pd.read_csv(\"CUES_2013_to_2017_EBdata.csv\")\n",
    "EBdata['DateTime']=pd.to_datetime(EBdata['DateTime'],format='%m/%d/%Y %H:%M')\n",
    "EBdata=EBdata.set_index('DateTime')\n",
    "EBdata.head()"
   ]
  },
  {
   "cell_type": "markdown",
   "metadata": {},
   "source": [
    "Let's look at the dataset we just imported as a table to see what energy balance variables are included."
   ]
  },
  {
   "cell_type": "markdown",
   "metadata": {},
   "source": [
    "This shows us all the types of data we have imported and the number of records - 60865. Let's convert the first column into a datatype that recognizes these values as specific dates and times and then set these timestamps as the index for the dataframe. Timbo: graph below should be plotte"
   ]
  },
  {
   "cell_type": "code",
   "execution_count": null,
   "metadata": {},
   "outputs": [],
   "source": [
    "EBdata.plot(y=['SnowDepth_cm','SWE_cm'],figsize=(15,4))"
   ]
  },
  {
   "cell_type": "markdown",
   "metadata": {},
   "source": [
    "We can see each winter season at the point as the snow depth and the snow water equivalent increase each year and then the snow melts out each spring. There is no SWE data for the first two seasons as the instrument that measures SWE was not installed. In this lab, we will use the snow depth measurement as a snow cover identifer (snow on / snow off) along with the energy balance data collected at this site to reconstruct the snow water equivalent from the energy balance each day. We will then compare our energy balance estimate to the independent SWE measurement at the site"
   ]
  },
  {
   "cell_type": "markdown",
   "metadata": {},
   "source": [
    "lets look at the solar radiation, the incoming solar radiation and the reflected solar radiation off the snow. The amount of reflected solar radiation is equal to the incoming solar radation that is relfectied - i.e. incoming*albedo"
   ]
  },
  {
   "cell_type": "code",
   "execution_count": null,
   "metadata": {},
   "outputs": [],
   "source": [
    "EBdata['reflected_solar']=EBdata['uplooking_broadband_watts_per_meterxx2']*EBdata['direct_broadband_snow_albedo']\n",
    "EBdata['reflected_solar']=EBdata['reflected_solar'].fillna(0)"
   ]
  },
  {
   "cell_type": "markdown",
   "metadata": {},
   "source": [
    "Lets look at one week of data in may of 2017 durring the melt season"
   ]
  },
  {
   "cell_type": "code",
   "execution_count": null,
   "metadata": {},
   "outputs": [],
   "source": [
    "EBdata.loc['5/1/2017':'5/7/2017'].plot(y=['uplooking_broadband_watts_per_meterxx2','reflected_solar'],figsize=(15,4))"
   ]
  },
  {
   "cell_type": "markdown",
   "metadata": {},
   "source": [
    "Can you guess which days were cloudy? which days were sunny?"
   ]
  },
  {
   "cell_type": "markdown",
   "metadata": {},
   "source": [
    "The net solar flux is S(1-albedo)  \n",
    "is incoming solar - reflected solar. This is the net flux of solar energy into the snowpack each day"
   ]
  },
  {
   "cell_type": "code",
   "execution_count": null,
   "metadata": {},
   "outputs": [],
   "source": [
    "EBdata['net_solar']=EBdata['uplooking_broadband_watts_per_meterxx2']-EBdata['reflected_solar']\n",
    "EBdata.loc['5/1/2017':'5/7/2017'].plot(y='net_solar',figsize=(15,4))"
   ]
  },
  {
   "cell_type": "markdown",
   "metadata": {},
   "source": [
    "Lets look at the longwave energy balance. \n",
    "\n",
    "We do not have snow surface temperature measurements, but we can approximate,  we know when there is snow cover, from the depth meausrement, and we know that snow cannot be warmer than 0degC. So Tsnow = min(Tair,0) if snow_depth>0\n",
    "# Use dewpoint instead of air temp, see Raleigh et al 2013 http://dx.doi.org/10.1002/2013WR013958\n",
    "\n",
    "\n",
    "The longwave radiation of a object is given by the Stefan Boltzman equation and is a function of the object's temperature. (hotter objects emit more radiation)\n",
    "\n",
    "[insert good photo here]  \n",
    "\n",
    "emissivity.ems=single(0.99);% Emissivity of snow"
   ]
  },
  {
   "cell_type": "code",
   "execution_count": null,
   "metadata": {},
   "outputs": [],
   "source": [
    "#snow is almost a black body emitter\n",
    "snow_emissivity=0.99\n",
    "celcius_2_kelvin=273.15\n",
    "#stefan-boltzman constant\n",
    "sbc=5.67e-8\n",
    "#want the temperature in kelvin for longwave emission calculation\n",
    "EBdata['snow_surface_temp']=np.minimum(0,EBdata['AirTemp_C'])\n",
    "EBdata.loc[EBdata['SnowDepth_cm']==0,'snow_surface_temp']=np.nan\n",
    "EBdata['outgoing_longwave']=sbc*((EBdata['snow_surface_temp']+celcius_2_kelvin)**4)"
   ]
  },
  {
   "cell_type": "markdown",
   "metadata": {},
   "source": [
    "Let look at all the energy balance variables over this time period.  "
   ]
  },
  {
   "cell_type": "code",
   "execution_count": null,
   "metadata": {},
   "outputs": [],
   "source": [
    "EBdata.loc['5/1/2017':'5/7/2017'].plot(y=['uplooking_longwave_watts_per_meterxx2','outgoing_longwave'],figsize=(15,4))"
   ]
  },
  {
   "cell_type": "code",
   "execution_count": null,
   "metadata": {},
   "outputs": [],
   "source": [
    "EBdata['net_longwave']=EBdata['uplooking_longwave_watts_per_meterxx2']-EBdata['outgoing_longwave']\n",
    "EBdata.loc['5/1/2017':'5/7/2017'].plot(y='net_longwave',figsize=(15,4))"
   ]
  },
  {
   "cell_type": "code",
   "execution_count": null,
   "metadata": {},
   "outputs": [],
   "source": [
    "EBdata.loc['5/1/2017':'5/7/2017'].plot(y=['net_solar','net_longwave'],figsize=(15,4))"
   ]
  },
  {
   "cell_type": "markdown",
   "metadata": {},
   "source": [
    "sensible heat flux = density of air * specific heat of air at constant pressure * (Tair - Tsurface) / aerodynamic resistance over snow adjusted for instability  \n",
    "$$H=\\rho_aC_pD\\zeta(T_a-T_s)$$"
   ]
  },
  {
   "cell_type": "code",
   "execution_count": null,
   "metadata": {},
   "outputs": [],
   "source": [
    "#constants needed to calculate heat exchanges\n",
    "Cp=1010 # #specific_heat_of_air J/(kg deg)\n",
    "k=0.41#Von Karman's constant\n",
    "eta=9.4 #stability function constant\n",
    "phi=5.3 #stability function constant\n",
    "g=9.8 # gravity m/s2\n",
    "celcius_2_kelvin=273.15 #temperatures must be in kelvin\n",
    "kPa_0=101.325; # sea level pressure kPa.\n",
    "rho_0=1.29 # sea level rho\n",
    "z0=0.0005# m roughness height (0.5mm)\n",
    "\n",
    "#variables needed to perform heat exchange calculations\n",
    "Ts=EBdata['snow_surface_temp']+celcius_2_kelvin\n",
    "Ta=EBdata['AirTemp_C']+celcius_2_kelvin\n",
    "u=EBdata['wind_speed_meters_per_sec'] #m/s\n",
    "zR=(600-EBdata['SnowDepth_cm'])/100 # meters height of windspeed measurement 6m above bare ground - correct for snow depth\n",
    "kPa_alt=EBdata['AirPressure_mb']/10 #measured pressure at snow study site, convert mb to kPa\n",
    "#air_density (rho) alt adj. density air,kg/m^3\n",
    "rho_air=rho_0*(kPa_alt/kPa_0);\n",
    "\n",
    "\n",
    "#heat_exchange_coefficent (also used for latent heat flux calculation)\n",
    "D=(u*k**2)/((ln(zR/z0))**2)\n",
    "\n",
    "#nondimensional stability function, three situations (neutral,stable,unstable) (also used for latent heat flux calculation)\n",
    "#unstable(Ts>Ta)\n",
    "#gamma=phi*eta*(k/(ln(zR/z0)))**2*np.sqrt(zR/z0)\n",
    "C1=phi*eta*(k/(ln(zR/z0)))**2*np.sqrt(zR/z0)\n",
    "\n",
    "#Ri=(g*zR*(Ta-Ts))/(Ta*u**2)\n",
    "C2=g*zR/(Ta*u**2)\n",
    "\n",
    "B1=eta*C2\n",
    "B2=C1*np.sqrt(np.absolute(C2))\n",
    "B3=1+B2*np.sqrt(np.absolute(Ts-Ta))\n",
    "\n",
    "#unstableConditions=1-(eta*Ri)/(1+gamma*np.sqrt(np.absolute(Ri)))\n",
    "unstable=1+B1*(Ts-Ta)/B3\n",
    "\n",
    "#stable(Ts<Ta)\n",
    "#stableConditions=1+(eta/2)*Ri\n",
    "B8=B1/2\n",
    "stable=1/((1+B8*(Ta-Ts))**2)\n",
    "\n",
    "#neutral stability assumption first (Ts==Ta) \n",
    "stability=np.ones_like(unstable)\n",
    "\n",
    "#fill in unstable times (Ts>Ta)\n",
    "unstableIdx=Ts>Ta\n",
    "stability[unstableIdx]=unstable[unstableIdx]\n",
    "\n",
    "#fill in stable times (Ts<Ta)\n",
    "stableIdx=Ts<Ta\n",
    "stability[stableIdx]=stable[stableIdx]\n",
    "\n",
    "#add sensible heat flux as a new column to the dataframe\n",
    "EBdata['Sensible_Heat_Flux']=rho_air*Cp*D*stability*(Ta-Ts)"
   ]
  },
  {
   "cell_type": "markdown",
   "metadata": {},
   "source": [
    "lets plot some of the variables by themselves and make sure they look right - plug various variables into the plotting function beblow to see what they look like across the season"
   ]
  },
  {
   "cell_type": "code",
   "execution_count": null,
   "metadata": {},
   "outputs": [],
   "source": [
    "plt.plot(zR) #change the variable to plot here (replace zR with others) to check and see what they look like"
   ]
  },
  {
   "cell_type": "code",
   "execution_count": null,
   "metadata": {},
   "outputs": [],
   "source": [
    "EBdata.loc['5/1/2017':'5/7/2017'].plot(y=['Sensible_Heat_Flux'],figsize=(15,4))"
   ]
  },
  {
   "cell_type": "markdown",
   "metadata": {},
   "source": [
    "latent heat flux = latent heat of vaporization or sublimation* density of air * (0.622/air pressure) * (vapor pressure of air - saturated vapor pressure of snow surface)  \n",
    "$$L=\\rho_a\\lambda_{v,s}D\\zeta(\\theta\\frac{e_a-e_s}{P_z})$$"
   ]
  },
  {
   "cell_type": "code",
   "execution_count": null,
   "metadata": {},
   "outputs": [],
   "source": [
    "#information from sensible heat flux calcualtion we need for latent heat flux calculation\n",
    "Ts=Ts\n",
    "Ta=Ta\n",
    "rho_air=rho_air\n",
    "Pa_alt=kPa_alt*1000\n",
    "D=D\n",
    "\n",
    "#new information needed for latent heat flux calculation\n",
    "theta=0.622 # ratio of molecular weight of water to air\n",
    "latent_heat_of_sublimation=2834700 #J/kg\n",
    "latent_heat_of_vaporization=2501000 #J/kg\n",
    "RH=EBdata['RH']\n",
    "Ta_C=EBdata['AirTemp_C']\n",
    "\n",
    "#vapor pressure of the air\n",
    "#calculated based on the saturation vapor pressure of the dewpoint temperature \n",
    "# as in: (Raleigh et al (2013) doi:10.1002/2013WR013958)\n",
    "c=273.86\n",
    "b=22.587\n",
    "#celcius dewpoint temp\n",
    "TdC=c*(ln(RH)+b*Ta_C/(c+Ta_C))/(b-ln(RH)-b*Ta_C/(c+Ta_C))\n",
    "#dewpoint temp (K)\n",
    "Td=TdC+273.15\n",
    "T0=273.16\n",
    "es0=0.611 #saturation vapor pressure in kPa at 273.16K\n",
    "Lwater=6808*(1/T0-1/Td)-5.09*ln(Td/T0)\n",
    "vp=es0*np.exp(Lwater)\n",
    "#saturation vapor pressure of ice at dewpoint temp (if air temp is below 0C)\n",
    "Lice=6293*(1/T0-1/Td)-0.555*ln(Td/T0)\n",
    "resetVp=Td<=T0\n",
    "#Lice[Lice!=resetVp]=np.nan\n",
    "vp_ice=es0*np.exp(Lice)\n",
    "vp[resetVp]=vp_ice[resetVp]\n",
    "eA=vp*1000 #eA and eS are in Pa, not kPa\n",
    "\n",
    "\n",
    "#saturation vapor pressure at the snow surface (vapor pressure over ice from Buck 1981) (e at the snow surface)\n",
    "Tf=273.15\n",
    "A=6.1115*100\n",
    "B=22.452\n",
    "C=272.55\n",
    "eS=A*np.exp((B*(Ts-Tf))/(C+(Ts-Tf)))\n",
    "#enthalpy of vaporization or sublimation \n",
    "#is liquid water in the snow evaporating or ice sublimating?\n",
    "#vapor pressure is greater at the snow surface - we assume sublimation - (use enthalpy of sublimation) \n",
    "#or greater in the air above the snow - we assume vaporization - (use enthalpy of vaporization)\n",
    "xLs=np.full_like(eS,latent_heat_of_sublimation) #set all to sublimation\n",
    "xLs[eS<eA]=latent_heat_of_vaporization #set to vaporization if nessesary\n",
    "\n",
    "EBdata['Latent_Heat_Flux']=rho_air*xLs*D*stability*(theta*((eA-eS)/Pa_alt)) # no adjustments for vegetation emitted longwave"
   ]
  },
  {
   "cell_type": "code",
   "execution_count": null,
   "metadata": {},
   "outputs": [],
   "source": [
    "plt.plot(Td) #change the variable to plot here (replace Td with others) to check and see what they look like"
   ]
  },
  {
   "cell_type": "code",
   "execution_count": null,
   "metadata": {
    "scrolled": true
   },
   "outputs": [],
   "source": [
    "EBdata.loc['5/1/2017':'5/7/2017'].plot(y=['Latent_Heat_Flux'],figsize=(15,4))"
   ]
  },
  {
   "cell_type": "markdown",
   "metadata": {},
   "source": [
    "Lets look at each componenet of the energy balance for this week. We can take the individual coponents and look at the net flux of energy into or out of the snowpack at each hourly timestep"
   ]
  },
  {
   "cell_type": "code",
   "execution_count": null,
   "metadata": {},
   "outputs": [],
   "source": [
    "EBdata['Net_Flux']=EBdata['Latent_Heat_Flux']+EBdata['Sensible_Heat_Flux']+EBdata['net_solar']+EBdata['net_longwave']\n",
    "EBdata.loc['5/1/2017':'5/7/2017'].plot(y=['Net_Flux','Latent_Heat_Flux','Sensible_Heat_Flux','net_solar','net_longwave'],figsize=(15,4))"
   ]
  },
  {
   "cell_type": "markdown",
   "metadata": {},
   "source": [
    "Solve the energy balance each day for potiental melt\n",
    "$$M_p=max(R_{net}+H+L,0)$$"
   ]
  },
  {
   "cell_type": "code",
   "execution_count": null,
   "metadata": {},
   "outputs": [],
   "source": [
    "EBdata['Energy_to_Melt']=np.maximum(EBdata['Net_Flux'],0)"
   ]
  },
  {
   "cell_type": "code",
   "execution_count": null,
   "metadata": {
    "scrolled": true
   },
   "outputs": [],
   "source": [
    "EBdata.loc['5/1/2017':'5/7/2017'].plot(y=['Energy_to_Melt'],figsize=(15,4))"
   ]
  },
  {
   "cell_type": "markdown",
   "metadata": {},
   "source": [
    "Reconstruction works backwards up to peak SWE, lets figure out the timeperiod to run our model based on the SWE measurements at CUES. We will figure out the dates to run reconstruction based on peak SWE date to melt out date. Because the reconstruciton method is independent from the SWE pillow measurements, we can compare the two results at the end"
   ]
  },
  {
   "cell_type": "code",
   "execution_count": null,
   "metadata": {
    "scrolled": false
   },
   "outputs": [],
   "source": [
    "#lets focus on the 2017 water year\n",
    "WY2017=EBdata.loc['10/1/2016':'9/30/2017']\n",
    "#date of peak SWE and volumne of water in the snowpack that day\n",
    "maxSWE=WY2017['SWE_cm'].max()\n",
    "maxSWEdate=WY2017['SWE_cm'].idxmax()\n",
    "\n",
    "#melt out date of the snowpack (hacky solution right now)\n",
    "meltOutIdx=WY2017['SWE_cm']==0                    \n",
    "lastSWEdate=max(meltOutIdx[meltOutIdx.diff() != 0 ].index.tolist())\n",
    "#.where(WY2017['SWE_cm'][:-1] != WY2017['SWE_cm'][1:],0)\n",
    "\n",
    "                    \n",
    "                    \n",
    "WY2017.plot(y=['SWE_cm'],figsize=(15,4))\n",
    "plt.scatter(maxSWEdate,maxSWE,marker='x',c='r',s=200)\n",
    "plt.scatter(lastSWEdate,0,marker='x',c='r',s=200)\n",
    "\n",
    "print(maxSWE, 'cm is the maximum SWE of the snowpack')\n",
    "print(maxSWEdate , 'is the max SWE date')\n",
    "print(lastSWEdate,' is the melt out date')\n",
    "print(np.count_nonzero(meltOutIdx))"
   ]
  },
  {
   "cell_type": "markdown",
   "metadata": {},
   "source": [
    "Now lets use our energy balance information to backcalculate the SWE each day from melt out date to peak SWE date and then compare our energy balance SWE estimate to the snow pillow data"
   ]
  },
  {
   "cell_type": "code",
   "execution_count": null,
   "metadata": {
    "scrolled": false
   },
   "outputs": [],
   "source": [
    "#valid time steps for summing melt over\n",
    "meltPeriod=EBdata[maxSWEdate:lastSWEdate]\n",
    "#how much snow melts for a constant W m-2 of energy over the course of an hour?\n",
    "melt_factor=0.0108  # mm/((W/m2)h)\n",
    "melt_per_hour=(meltPeriod['Energy_to_Melt']*melt_factor)/10 #mm to cm\n",
    "#cumulative sum of the melt_per_hour from melt out date back to peak SWE\n",
    "SWE=melt_per_hour.loc[::-1].cumsum()[::-1]\n",
    "SWE.plot(y=['SWE'],figsize=(5,5),label=\"SWE Reconstruction\")\n",
    "melt_per_hour.plot(y=['melt_per_hour'],label=\"melt per hour\")\n",
    "plt.legend(loc=\"upper right\")"
   ]
  },
  {
   "cell_type": "markdown",
   "metadata": {},
   "source": [
    "As you can see from above, a little melt each hour adds up to a lot of snow.\n",
    "  \n",
    "    \n",
    "Lets now look at our reconstructed snow water equivalnet compared to the measured SWE at the snow pillow.\n",
    "#and of course it matches nearly perfectly :)"
   ]
  },
  {
   "cell_type": "code",
   "execution_count": null,
   "metadata": {
    "scrolled": true
   },
   "outputs": [],
   "source": [
    "WY2017.plot(y=['SWE_cm'],figsize=(15,5), label=['SWE pillow measurement'])\n",
    "SWE.plot(y=['SWE'],label=\"SWE Reconstruction\")\n",
    "plt.scatter(maxSWEdate,maxSWE,marker='x',c='r',s=200)\n",
    "plt.scatter(lastSWEdate,0,marker='x',c='r',s=200)\n",
    "plt.legend(loc=\"upper right\")"
   ]
  }
 ],
 "metadata": {
  "kernelspec": {
   "display_name": "Python 3",
   "language": "python",
   "name": "python3"
  },
  "language_info": {
   "codemirror_mode": {
    "name": "ipython",
    "version": 3
   },
   "file_extension": ".py",
   "mimetype": "text/x-python",
   "name": "python",
   "nbconvert_exporter": "python",
   "pygments_lexer": "ipython3",
   "version": "3.8.5"
  }
 },
 "nbformat": 4,
 "nbformat_minor": 4
}
